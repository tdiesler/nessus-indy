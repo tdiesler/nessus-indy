{
 "cells": [
  {
   "cell_type": "markdown",
   "metadata": {},
   "source": [
    "# Getting started with NumPy Array\n",
    "\n",
    ">This is an accompanying notebook with the course __Data Analytics Using Python: Learning Python Functions__\n",
    "><br>All the code snippets used in the section are available in this notebook for reference purposes.\n",
    "\n",
    "\n"
   ]
  },
  {
   "cell_type": "markdown",
   "metadata": {},
   "source": [
    "## Introduction to NumPy Array, ndArray\n",
    "NumPy (Numerical Python) is an open source Python library. It is the universal standard for working with numerical data in Python and it’s at the core of the scientific Python ecosystem.\n",
    "\n",
    "### NumPy = Numerical + Python\n",
    "    \n",
    "Etymologically, NumPy is a portmanteau from ‘Numerical’ and ‘Python’. Numerical Python contains functions that can be used for all kinds of numerical operations in the data analysis process using Python. \n",
    "The NumPy application programming interface (API) is extensively used in Pandas, SciPy, Matplotlib, scikit-learn, and most other data science and data analytics Python packages. With respect to Python, you can consider APIs as the core functions, classes, and modules defined in the NumPy package.\n",
    "    \n",
    "### NumPy functionalities\n",
    "    \n",
    "There are many NumPy functionalities that include:\n",
    "    \n",
    "- multi-dimensional Array and matrix data structures\n",
    "- a n-dimensional Array object of homogenous data type – ndArray – and methods to operate on it faster and more efficiently\n",
    "- standard mathematical functions for faster operations on the entire Array of data without the need for loops\n",
    "- linear algebra capabilities, random number generators, and so on.\n",
    "\n",
    "While NumPy itself doesn’t provide high-level data analysis functionality, having the understanding of NumPy Arrays and its usage will help you in using other tools, like Pandas and Matplotlib, effectively and efficiently.\n",
    "\n",
    "As in Python, to use a module in your NumPy program you first need to import it.\n",
    "\n",
    "    \n",
    "#### Importing NumPy\n",
    "Any time you want to use a library or a package in your code, you first need to make it accessible by using the import statement. To start using NumPy and all of the functions available, this means importing the package. This can be easily done using the following code:\n",
    "\n",
    "\n",
    "<code>\n",
    "##Importing NumPy package\n",
    "import numpy as np\n",
    "</code>\n",
    "\n",
    "There is an unstated, undocumented convention that is followed in the Python world – using ‘np’ as the reference name while importing NumPy. Technically, any other name can be used, but this is the convention generally followed.\n"
   ]
  },
  {
   "cell_type": "code",
   "execution_count": null,
   "metadata": {},
   "outputs": [],
   "source": [
    "## Importing NumPy package\n",
    "import numpy as np\n",
    "\n",
    "##Check the version of the package, and verify that it has been imported correctly\n",
    "np.__version__"
   ]
  },
  {
   "cell_type": "markdown",
   "metadata": {},
   "source": [
    "## NumPy data structure: ndArray\n",
    "\n",
    "The fundamental data structure that NumPy provides is ndArray.\n",
    "\n",
    "ndArray is a generic multidimensional container for homogenous data; that is, all of the elements in the Array should be of the same data type.\n",
    "\n",
    "It has attributes such as:\n",
    "- shape, which returns a tuple indicating the size of each dimension\n",
    "- dtype, which returns an object describing the data type of the Array elements.\n",
    "\n",
    "Here are the code snippets and the outputs for the same:\n"
   ]
  },
  {
   "cell_type": "code",
   "execution_count": null,
   "metadata": {},
   "outputs": [],
   "source": [
    "#Creating a random array and checking its shape and dtype attributes\n",
    "arr1 = np.array([1,2,3,4,5])\n",
    "arr1, arr1.shape, arr1.dtype"
   ]
  },
  {
   "cell_type": "code",
   "execution_count": null,
   "metadata": {},
   "outputs": [],
   "source": [
    "#Formatted Print Outputs for the ndArray arr1\n",
    "#Print the type of the variable arr1 -> as we all know this is ndArray.\n",
    "#Print the array itself -> this would print the items stored in the array.\n",
    "print(\"-------Printing the the Type of the Variable arr1, and the contents of array-------\")\n",
    "print(type(arr1))\n",
    "print(arr1)\n",
    "print(\"-------Printing the the Shape and DType property of the ndArray arr1-------\")\n",
    "print(\"Shape of the Array is: \" + str(arr1.shape))\n",
    "print(\"Dtype for the Array is: \" + str(arr1.dtype))\n"
   ]
  },
  {
   "cell_type": "markdown",
   "metadata": {},
   "source": [
    "### Creating ndArrays\n",
    "\n",
    "You can create ndArrays using the Array() function the NumPy package provides. This function accepts a sequence-like object as an input and produces the NumPy Array containing the data that has been passed to the function.\n",
    "\n",
    "The code snippet and output demonstrate creating a one-dimensional ndArray:\n",
    "\n",
    "\n",
    "<code>\n",
    "    l1 = [1,2,3,4,5,6]\n",
    "    a1 = np.array(l1)\n",
    "    a1\n",
    "</code>\n",
    "\n",
    "If a nested sequence is provided as the input, a multi-dimensional Array is created (dimension is related to the level of nesting in the data that has been passed). \n",
    "\n",
    "The code snippet demonstrates creating a 2 ndArray:\n",
    "\n",
    "\n",
    "<code>\n",
    "    a2 = np.array([[1,2,3],\n",
    "                   [4,5,6],\n",
    "                   [7,8,9]])\n",
    "    </code>\n",
    "    \n",
    "The attribute ‘ndim’ associated with every Array object tells us the number of dimensions it has.\n",
    "\n",
    "The code snippet highlights the use of this attribute:"
   ]
  },
  {
   "cell_type": "code",
   "execution_count": null,
   "metadata": {},
   "outputs": [],
   "source": [
    "# Create ndArray by passing a list object to np.array()\n",
    "l1 = [1,2,3,4,5,6]\n",
    "a1 = np.array(l1)\n",
    "a1"
   ]
  },
  {
   "cell_type": "code",
   "execution_count": null,
   "metadata": {},
   "outputs": [],
   "source": [
    "# Create multi-dimensional array by passing a nested list to np.array()\n",
    "a2 = np.array([[1,2,3], [4,5,6], [7,8,9]])\n",
    "a2"
   ]
  },
  {
   "cell_type": "code",
   "execution_count": null,
   "metadata": {},
   "outputs": [],
   "source": [
    "#Check the shape and ndim property of the arrays created in the previous step\n",
    "print(a1.shape, a1.ndim)\n",
    "print(a2.shape, a2.ndim)"
   ]
  },
  {
   "cell_type": "markdown",
   "metadata": {},
   "source": [
    "You learned earlier that ndArrays have a dtype attribute that returns an object describing the data type of the Array elements. This means the np.Array() function must either accept the dtype as input, and if it's optional, it should try to infer the data type property based on the data that has been passed. \n",
    "\n",
    "And that’s exactly the scenario, unless explicitly specified; the np.Array() function infers the good data type for the Array that it creates. \n",
    "\n",
    "The code snippet and output that shows the dtype property of the Array objects that we have created in the example above:"
   ]
  },
  {
   "cell_type": "code",
   "execution_count": null,
   "metadata": {},
   "outputs": [],
   "source": [
    "#Check the property dtype of the arrays created in the previous step\n",
    "a1.dtype, a2.dtype"
   ]
  },
  {
   "cell_type": "markdown",
   "metadata": {},
   "source": [
    "### ndArray with floating data\n",
    "    \n",
    "Let’s try to create a ndArray that has floating data, instead of integers. \n",
    "\n",
    "<code>\n",
    "    a3=np.array([1.1,2.3,4.5,6])\n",
    "</code>\n",
    "\n",
    "And we can check the __dtype__ attribute value for a3, to confirm the dtype value infered automatically."
   ]
  },
  {
   "cell_type": "code",
   "execution_count": null,
   "metadata": {},
   "outputs": [],
   "source": [
    "# Creating ndArray with float values\n",
    "a3=np.array([1.1,2.3,4.5,6])\n",
    "a3"
   ]
  },
  {
   "cell_type": "code",
   "execution_count": null,
   "metadata": {},
   "outputs": [],
   "source": [
    "# Checking the infered dtype\n",
    "a3.dtype"
   ]
  },
  {
   "cell_type": "markdown",
   "metadata": {},
   "source": [
    "Many times, we need to create an ndArray with values defaulted; for example, to ‘0’ or ‘1’, and there are specific functions available for this purpose. The benefit of using these functions is that you don’t have to pass the data sequence with all 0s and 1s in it, as when dealing with higher dimensional data that becomes very cumbersome.\n",
    "\n",
    "- __np.zero()__ -> creates ndArray with values equal to 0\n",
    "- __np.ones()__ -> creates ndArray with values equal to 1\n",
    "\n",
    "Both these functions accept the shape of the Array as a parameter. The code snippet highlights the use of these functions:"
   ]
  },
  {
   "cell_type": "code",
   "execution_count": null,
   "metadata": {},
   "outputs": [],
   "source": [
    "#Creating one dimensional ndArray with all values equal to 0\n",
    "n1 = np.zeros(5)\n",
    "n1"
   ]
  },
  {
   "cell_type": "code",
   "execution_count": null,
   "metadata": {},
   "outputs": [],
   "source": [
    "n1.ndim, n1.shape"
   ]
  },
  {
   "cell_type": "code",
   "execution_count": null,
   "metadata": {},
   "outputs": [],
   "source": [
    "#Creating 3 dimensional array with all values equal to 1\n",
    "n2 = np.ones((2,3,4))\n",
    "n2"
   ]
  },
  {
   "cell_type": "code",
   "execution_count": null,
   "metadata": {},
   "outputs": [],
   "source": [
    "n2.ndim, n2.shape"
   ]
  },
  {
   "cell_type": "markdown",
   "metadata": {},
   "source": [
    "There are many other functions available for creating n-dimensional Arrays. For a comprehensive reference guide, please refer to the official NumPy documentation:\n",
    "\n",
    "Read: https://numpy.org/doc/stable/reference/routines.array-creation.html\n"
   ]
  },
  {
   "cell_type": "markdown",
   "metadata": {},
   "source": [
    "## NumPy: Essential operations\n",
    "\n",
    "For the purposes of data analysis using Python, you need to understand the following essential operations that NumPy has to offer.\n",
    "\n",
    "### Vectorization\n",
    "\n",
    "NumPy Arrays provide vectorised mathematical operations and it’s beneficial to understand the concept of vectorisation. It has its roots in vector mathematics, but from a programming perspective it means that if data is stored in NumPy Arrays (vectors), it enables us to express the batch operations on the data without writing any loop. \n",
    "\n",
    "You simply express the mathematical operations as if you have scalar data types.\n",
    "\n",
    "The code snippet explains the concept of vectorisation and shows that without using the loop functionality, we are able to perform addition on all the elements of ndArray using simple mathematical addition. NumPy Arrays provide vectorised mathematical operations and it’s beneficial to understand the concept of vectorisation. It has its roots in vector mathematics, but from a programming perspective it means that if data is stored in NumPy Arrays (vectors), it enables us to express the batch operations on the data without writing any loop. You simply express the mathematical operations as if you have scalar data types.\n",
    "\n",
    "The code snippet explains the concept of vectorisation and shows that without using the loop functionality, we are able to perform addition on all the elements of ndArray using simple mathematical addition.\n",
    "\n"
   ]
  },
  {
   "cell_type": "code",
   "execution_count": null,
   "metadata": {},
   "outputs": [],
   "source": [
    "#Using NumPy Array we can do addition of all the data in NumPy Array\n",
    "#element by element by simply specifying the + operator between two Arrays Operands\n",
    "#If we are not using NumPy Array, then element wise operation will require\n",
    "#loops to iterate through both arrays\n",
    "a1 = np.array([[1,2,3], [4,5,6]])\n",
    "a2 = np.array([[6,7,8], [9,10,11]])"
   ]
  },
  {
   "cell_type": "code",
   "execution_count": null,
   "metadata": {},
   "outputs": [],
   "source": [
    "a1, a1.shape, a1.ndim"
   ]
  },
  {
   "cell_type": "code",
   "execution_count": null,
   "metadata": {},
   "outputs": [],
   "source": [
    "a2, a2.shape, a2.ndim"
   ]
  },
  {
   "cell_type": "code",
   "execution_count": null,
   "metadata": {},
   "outputs": [],
   "source": [
    "a_sum = a1 + a2\n",
    "a_sum, a_sum.shape, a_sum.ndim"
   ]
  },
  {
   "cell_type": "markdown",
   "metadata": {},
   "source": [
    "### Indexing and slicing\n",
    "\n",
    "We touched on indexing and slicing when we explored various foundational data structures provided within Python.\n",
    "\n",
    "To recap:\n",
    "- Indexing is used to access a particular element in the sequence. \n",
    "- Slicing is used to access subsets of a sequence (more than one element).\n",
    "\n",
    "The notation used for both operations is [ ] and passing different index parameters into square brackets. We will explore indexing and slicing in the context of NumPy Arrays later in this section.\n",
    "\n",
    "The same principle of indexing and slicing applies to the NumPy Arrays as well, but with some subtle differences. \n",
    "\n",
    "- Indexing: By providing the index in square brackets, you can access the value stored at that position.\n",
    "- Slicing: By providing the slicing indices, you can access the subset of the data stored between those indices.\n",
    "\n",
    "#### Indexing examples\n",
    "\n",
    "Accessing an element in first row and third column, and an element in the second row and first column.\n"
   ]
  },
  {
   "cell_type": "code",
   "execution_count": null,
   "metadata": {},
   "outputs": [],
   "source": [
    "a_sum"
   ]
  },
  {
   "cell_type": "code",
   "execution_count": null,
   "metadata": {},
   "outputs": [],
   "source": [
    "#Accessing element in the first row (index 0), and third column (index 2) i.e. 11\n",
    "item1 = a_sum[0,2]\n",
    "\n",
    "#Accessing element in the second row (index 0), and first column (index 0) i.e. 13\n",
    "item2 = a_sum[1,0]\n"
   ]
  },
  {
   "cell_type": "code",
   "execution_count": null,
   "metadata": {},
   "outputs": [],
   "source": [
    "item1, item2"
   ]
  },
  {
   "cell_type": "markdown",
   "metadata": {},
   "source": [
    "### Slicing examples \n",
    "\n",
    "The code snippet shows a two-dimensional ndArray created with three rows and four columns. By using the slicing operation we are accessing some subsets of the data:\n",
    "\n",
    "- first two columns of all rows ()\n",
    "    - slice parameter -> [:,0:2]\n",
    "- first and third row only, and second and fourth columns only\n",
    "    - slice parameter -> [0::2, 1::2]\n"
   ]
  },
  {
   "cell_type": "code",
   "execution_count": null,
   "metadata": {},
   "outputs": [],
   "source": [
    "n1 = np.array([[11,12,13,14], [15,16,17,18], [13,14,15,16]])\n",
    "n1"
   ]
  },
  {
   "cell_type": "code",
   "execution_count": null,
   "metadata": {},
   "outputs": [],
   "source": [
    "n1.ndim, n1.shape"
   ]
  },
  {
   "cell_type": "code",
   "execution_count": null,
   "metadata": {},
   "outputs": [],
   "source": [
    "#So n1 is a two dimensional array with a shape of (3,4) i.e. 3 rows and 4 columns\n",
    "#Let's collect the partial data or a subset from this array. Let say first two columns of all rows.\n",
    "#Remember we specify slice as start:stop:step for every dimension\n",
    "slice_data = n1[:,0:2]\n",
    "slice_data"
   ]
  },
  {
   "cell_type": "code",
   "execution_count": null,
   "metadata": {},
   "outputs": [],
   "source": [
    "#Similarly if we want to only access first and third row, and for the selected rows,\n",
    "#only second and fourth column, this slicing operation will be as follows:\n",
    "slice_data1 = n1[0::2, 1::2]\n",
    "slice_data1"
   ]
  },
  {
   "cell_type": "markdown",
   "metadata": {},
   "source": [
    "### Broadcasting\n",
    "\n",
    "It’s important to understand this characteristic of slicing NumPy Arrays. Array slices are basically the views on the original Array; that is, when we perform a slicing operation, a new object is not created. \n",
    "\n",
    "We can see this in the slicing example in the previous code snippet – the variables slice_data and slice_data1 are simply the references to the data stored in the original NumPy Array. \n"
   ]
  },
  {
   "cell_type": "code",
   "execution_count": null,
   "metadata": {},
   "outputs": [],
   "source": [
    "n1"
   ]
  },
  {
   "cell_type": "markdown",
   "metadata": {},
   "source": [
    "This means that if we change the data using the Array slices, then the original source data will also change. This behaviour is called broadcasting – the method that NumPy uses to allow Array arithmetic between Arrays with a different shape or size. \n",
    "\n",
    "The code snippet demonstrates broadcasting in practice. Here, we are changing the second and third columns of the first and third row by selecting them using slices, and equating them to a fixed value of 50.\n"
   ]
  },
  {
   "cell_type": "code",
   "execution_count": null,
   "metadata": {},
   "outputs": [],
   "source": [
    "# Using broadcasting i.e. with use of array slicing, lets change the values\n",
    "# of the elements in second and fourth columns, of the first and third row\n",
    "# to say 50\n",
    "n1[0::2,1::2] = 50"
   ]
  },
  {
   "cell_type": "code",
   "execution_count": null,
   "metadata": {},
   "outputs": [],
   "source": [
    "n1"
   ]
  },
  {
   "cell_type": "markdown",
   "metadata": {},
   "source": [
    "Broadcasting is widely used in data analytics applications and the underlying programs so it’s a very important concept to master. It is used extensively in the data manipulations that we will conduct as part of data wrangling while creating data pipelines for data analytics applications in Module 5.\n"
   ]
  },
  {
   "cell_type": "markdown",
   "metadata": {},
   "source": [
    "## Boolean indexing and transposing Arrays\n",
    "\n",
    "### Boolean indexing \n",
    "\n",
    "Combining all the concepts we have learnt so far (ie, vectorisation, indexing, and slicing), we can program some very complex and powerful filtering logics in a single Python statement.\n",
    "\n",
    "One of these operations is called boolean indexing, and this is very widely used in data wrangling aspects of data analysis.\n",
    "Let’s use an example scenario to explain:\n",
    "\n",
    "- A sequence consisting of the name of all the customers, in order, whenever they have made a purchase (ie, a customer can appear more than once in the list).\n",
    "- Another sequence consisting of the details of each transaction for the specific customer in order.\n",
    "- The sequence is stored in the NumPy Arrays, and now we want to select the transactions for a particular customer.\n",
    "\n",
    "We can solve the above scenario using a combination of vectorisation, indexing, and slicing.\n",
    "\n",
    "The code snippets simulate this scenario with steps to follow.\n",
    "\n",
    "\n",
    "#### Step 1: Create data\n",
    "To apply the boolean filters, you need to have dummy data. Let us create one for this activity. \n"
   ]
  },
  {
   "cell_type": "code",
   "execution_count": null,
   "metadata": {},
   "outputs": [],
   "source": [
    "# List of customer who have made the transactions, stored in numpy array\n",
    "customers = np.array(['Bob', 'John', 'Miller', 'Bob', 'Sammy', 'Samuel', 'Tony', 'Amanda', 'Bob'])\n",
    "customers.ndim, customers.shape"
   ]
  },
  {
   "cell_type": "markdown",
   "metadata": {},
   "source": [
    "#### Step 2: Apply comparison operator to create a boolean filter \n",
    "\n",
    "As operations on NumPy Arrays are vectorised, if we apply a comparison operator, the resultant Array will be a boolean Array with True or False values in it, depending on the filter.\n",
    "\n",
    "Let’s perform the operation customer name = ‘Bob’ and see what happens."
   ]
  },
  {
   "cell_type": "code",
   "execution_count": null,
   "metadata": {},
   "outputs": [],
   "source": [
    "# So there are 9 customer entries in the above customers array.\n",
    "# Let's create an array of 9rows (one for each customer), and 4 columns (assume 4 attributes of transaction) \n",
    "# with random integer values. We will fill this array with some random numbers, using a function randint\n",
    "data = np.random.randint(1,100, size=(9,4))\n",
    "transactions = np.array(data)\n",
    "transactions"
   ]
  },
  {
   "cell_type": "markdown",
   "metadata": {},
   "source": [
    "#### Step 3: Pass boolean filter for the slicing of the Array\n",
    "\n",
    "Here, we can pass this boolean filter as one of the index parameters in the slicing operations.\n",
    "\n",
    "We want to select all the transaction rows related to customer ‘Bob’, and we want to select all the columns for those selected rows. So, we will pass the following slicing parameter:\n",
    "- boolean filter – for row index\n",
    "- :  – for the column index (ie, picking all columns)\n",
    "\n",
    "The code snippet shows this behaviour and you will see rows 1, 3, and 9 are filtered. Just for the ease of viewing the result, the value 1,000,000 (1.0e+6) is also broadcast for these elements.\n"
   ]
  },
  {
   "cell_type": "code",
   "execution_count": null,
   "metadata": {},
   "outputs": [],
   "source": [
    "#Creating a Boolean Filter by applying vectorized comparison to customers array\n",
    "customers == 'Bob'\n",
    "#This will result into an array with 9 columns, with True at all the position\n",
    "#where 'Bob' exists in the customer array"
   ]
  },
  {
   "cell_type": "code",
   "execution_count": null,
   "metadata": {},
   "outputs": [],
   "source": [
    "slice = transactions[customers=='Bob', :]\n",
    "slice"
   ]
  },
  {
   "cell_type": "code",
   "execution_count": null,
   "metadata": {},
   "outputs": [],
   "source": [
    "transactions[customers=='Bob', :] = 1000000\n",
    "transactions"
   ]
  },
  {
   "cell_type": "markdown",
   "metadata": {},
   "source": [
    "Now it should be clear for you why Boolean indexing is the efficient way of filtering rows in a NumPy Array based on certain selection criteria dependent on the requirements."
   ]
  },
  {
   "cell_type": "markdown",
   "metadata": {},
   "source": [
    "### Transposing Arrays\n",
    "\n",
    "Generally, transposing Arrays is a widely used internal operation in various machine learning and deep learning algorithms. Transposing operations on Arrays will convert rows into columns, and columns into rows.\n",
    "\n",
    "Transposing is a special type of reshaping that returns a view on the underlying NumPy Array data without copying anything. For this purpose, there is a special attribute, T, available for every NumPy Array."
   ]
  },
  {
   "cell_type": "code",
   "execution_count": null,
   "metadata": {},
   "outputs": [],
   "source": [
    "arr = np.array([[1,2,3,4],[5,6,7,8],[9,10,11,12]])\n",
    "arr"
   ]
  },
  {
   "cell_type": "code",
   "execution_count": null,
   "metadata": {},
   "outputs": [],
   "source": [
    "arr.T"
   ]
  },
  {
   "cell_type": "markdown",
   "metadata": {},
   "source": [
    "## NumPy Array functions\n",
    "\n",
    "### Universal functions\n",
    "\n",
    "The NumPy package provides various functions that perform fast operations on the elements of the ndArray, called universal functions. These functions can be considered as the fast vectorised wrapper functions – performing simple mathematical operations like square, square root, exponential, maximum, add, subtract, and so on.\n",
    "\n",
    "Some of these functions only require one NumPy Array as a parameter and the function simply performs the operations. These are referred to as unary universal functions; for example, square, square root, and so on.\n",
    "\n",
    "Similarly, a universal function that requires two Arrays as a parameter is referred to as binary universal functions.\n",
    "The code snippets show examples of the various universal functions."
   ]
  },
  {
   "cell_type": "markdown",
   "metadata": {},
   "source": [
    "#### Example of Unary Array Functions"
   ]
  },
  {
   "cell_type": "code",
   "execution_count": null,
   "metadata": {},
   "outputs": [],
   "source": [
    "arr = np.array([2,3,5,6,7,8])\n",
    "arr_square = np.square(arr)\n",
    "arr, arr_square"
   ]
  },
  {
   "cell_type": "code",
   "execution_count": null,
   "metadata": {},
   "outputs": [],
   "source": [
    "arr_root = np.sqrt(arr_square)\n",
    "arr_square, arr_root"
   ]
  },
  {
   "cell_type": "markdown",
   "metadata": {},
   "source": [
    "#### Example of Binary Array Function"
   ]
  },
  {
   "cell_type": "code",
   "execution_count": null,
   "metadata": {},
   "outputs": [],
   "source": [
    "arr1 = np.array([12,15,12,1,2,3,4,66,23])\n",
    "arr2 = np.array([10,4,5,11,22,4,5,6,89])\n",
    "\n",
    "#Element wise maximum value\n",
    "arr_maximum = np.maximum(arr1, arr2)\n",
    "arr_maximum"
   ]
  },
  {
   "cell_type": "markdown",
   "metadata": {},
   "source": [
    "For a comprehensive list of universal functions, please refer to the list from the NumPy manual.<br>\n",
    "Read: https://numpy.org/doc/stable/reference/ufuncs.html#available-ufuncs\n"
   ]
  },
  {
   "cell_type": "markdown",
   "metadata": {},
   "source": [
    "## Mathematical methods\n",
    "\n",
    "There are sets of mathematical functions that perform certain computations, including statistics on the entire Array, or on all the data along a particular axis. These functions are available as Array methods.\n",
    "\n",
    "Let’s explore some of these Array methods.\n",
    "\n",
    "\n",
    "### Mean\n",
    "\n",
    "This method will calculate the mean of all the data in the Array. If we pass the axis parameter, then the mean calculation happens along that axis.\n",
    "\n",
    "The code snippet demonstrates the mean method:"
   ]
  },
  {
   "cell_type": "code",
   "execution_count": null,
   "metadata": {},
   "outputs": [],
   "source": [
    "arr1 = np.random.randn(4,5)\n",
    "arr1"
   ]
  },
  {
   "cell_type": "code",
   "execution_count": null,
   "metadata": {},
   "outputs": [],
   "source": [
    "arr1.mean()"
   ]
  },
  {
   "cell_type": "code",
   "execution_count": null,
   "metadata": {},
   "outputs": [],
   "source": [
    "#Calculate mean across all the rows i.e mean of first, second and third columns \n",
    "arr1.mean(axis=0)"
   ]
  },
  {
   "cell_type": "code",
   "execution_count": null,
   "metadata": {},
   "outputs": [],
   "source": [
    "#Calculate mean across all the columns i.e mean of first, second and third rows respectively \n",
    "arr1.mean(axis=1)"
   ]
  },
  {
   "cell_type": "markdown",
   "metadata": {},
   "source": [
    "### Sum\n",
    "\n",
    "This method will calculate the sum of all the data in the Array, or if we pass the axis parameter, summation will happen along that axis.\n",
    "\n",
    "The code snippet demonstrates the sum method:"
   ]
  },
  {
   "cell_type": "code",
   "execution_count": null,
   "metadata": {},
   "outputs": [],
   "source": [
    "arr1 = np.array([[1,2,3,10],[4,5,6,11],[7,8,9,12]])\n",
    "arr1"
   ]
  },
  {
   "cell_type": "code",
   "execution_count": null,
   "metadata": {},
   "outputs": [],
   "source": [
    "arr1.sum(axis=0)"
   ]
  },
  {
   "cell_type": "code",
   "execution_count": null,
   "metadata": {},
   "outputs": [],
   "source": [
    "arr1.sum(axis=1)"
   ]
  },
  {
   "cell_type": "markdown",
   "metadata": {},
   "source": [
    "An easier way to understand axis parameter is to assume you need to collate all the data on that axis by performing the said operations:\n",
    "\n",
    "If we specify arr1.sum(axis=0), it means that in the result set the rows will be collapsed into one row (ie, summation has happened in every column).\n",
    "\n",
    "There are some methods which won’t return the aggregated results, but rather the intermediate results depending on the operations performed along the axis specified. An example of such a method is the cumulative sum."
   ]
  },
  {
   "cell_type": "markdown",
   "metadata": {},
   "source": [
    "### CumSum\n",
    "\n",
    "This method will perform the cumulative sum of the elements along the axis specified as the parameter. The following code snippet showcases an example."
   ]
  },
  {
   "cell_type": "code",
   "execution_count": null,
   "metadata": {},
   "outputs": [],
   "source": [
    "arr1"
   ]
  },
  {
   "cell_type": "code",
   "execution_count": null,
   "metadata": {},
   "outputs": [],
   "source": [
    "arr1_0 = arr1.cumsum(axis=0)\n",
    "arr1_0"
   ]
  },
  {
   "cell_type": "code",
   "execution_count": null,
   "metadata": {},
   "outputs": [],
   "source": [
    "arr1_1 = arr1.cumsum(axis=1)\n",
    "arr1_1"
   ]
  },
  {
   "cell_type": "markdown",
   "metadata": {},
   "source": [
    "<br>Another way of looking at axis becomes clear in this example. \n",
    "\n",
    "When we specify axis = 0, it means we are doing cumulative sum along the rows i.e.\n",
    "- the first row will have the original value\n",
    "- the second row will have the cumulative value (cumulative sum from the previous row).\n",
    "\n",
    "When we specify axis = 1, it means we are doing cumulative sum along the columns. As in: \n",
    "\n",
    "- the first column will have the original value\n",
    "- the second column will have the cumulative value (cumulative sum from the previous column).\n"
   ]
  },
  {
   "cell_type": "markdown",
   "metadata": {},
   "source": [
    "### Methods on Boolean Arrays\n",
    "\n",
    "\n",
    "Some mathematical methods can be applied to Boolean Arrays as well; for example, sum(). In this case, it will return the count of True values in a Boolean Array.\n",
    "\n",
    "The code snippet shows the sum method applied to Boolean Arrays.\n"
   ]
  },
  {
   "cell_type": "code",
   "execution_count": null,
   "metadata": {},
   "outputs": [],
   "source": [
    "bool_arr = np.array([True,False,False,True,True,True,False,True,False,True,True])\n",
    "total_true = bool_arr.sum()\n",
    "total_true"
   ]
  },
  {
   "cell_type": "markdown",
   "metadata": {},
   "source": [
    "In this section, we covered the basics of NumPy Arrays, but there is much more to n-dimensional Arrays. \n",
    "\n",
    "We will cover more of the NumPy Array features using application and coding exercises in the coming sections. "
   ]
  }
 ],
 "metadata": {
  "kernelspec": {
   "display_name": "Python 3 (ipykernel)",
   "language": "python",
   "name": "python3"
  },
  "language_info": {
   "codemirror_mode": {
    "name": "ipython",
    "version": 3
   },
   "file_extension": ".py",
   "mimetype": "text/x-python",
   "name": "python",
   "nbconvert_exporter": "python",
   "pygments_lexer": "ipython3",
   "version": "3.9.7"
  }
 },
 "nbformat": 4,
 "nbformat_minor": 2
}
