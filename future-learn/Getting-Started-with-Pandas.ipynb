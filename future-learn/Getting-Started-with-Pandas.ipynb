{
 "cells": [
  {
   "cell_type": "markdown",
   "metadata": {},
   "source": [
    "# 3.3 Getting Started with Pandas\n",
    "\n",
    ">This is an accompanying notebook with the module __MC_DAP01_3.3_Getting Started with Pandas__\n",
    "><br>All the code snippet used in the section are available in this notebook for reference purposes.\n"
   ]
  },
  {
   "cell_type": "markdown",
   "metadata": {},
   "source": [
    "## Introduction to Pandas\n",
    "\n",
    "Pandas is considered to be one of the most favorite Python libraries to work with. Perhaps because it is the workhorse for data analysts using Python!\n",
    "\n",
    "### Pandas = Panel + Data \n",
    "    \n",
    "Etymologically, Pandas is a portmanteau from ‘Panel’ and ‘Data’. Panel data is a term commonly used for the data sets that contain data with observations over a period of time for the same subject / individuals each time.\n",
    "    \n",
    "### Pandas functionalities\n",
    "\n",
    "There are many Pandas functionalities that include:\n",
    "\n",
    "- loading your data from a file to start your analysis\n",
    "- previewing your data to understand the data\n",
    "- manipulating your data for gathering better insights \n",
    "- transforming your data from one format to another\n",
    "\n",
    "\n",
    "As in Python, to use a module in your Pandas program you first need to import it.\n",
    "\n",
    "### Importing Pandas\n",
    "    \n",
    "Similar to NumPy, to start using Pandas and all of the functions available, you are required to import the package. This can be easily done using the following code:\n"
   ]
  },
  {
   "cell_type": "code",
   "execution_count": null,
   "metadata": {},
   "outputs": [],
   "source": [
    "##Importing Pandas package\n",
    "import pandas as pd"
   ]
  },
  {
   "cell_type": "markdown",
   "metadata": {},
   "source": [
    "There is an unstated, undocumented convention that is followed in the Python world – using ‘pd’ as the reference name while importing Pandas. Technically, any other name can be used, but this is the convention generally followed.\n",
    "\n",
    "### How is it different from NumPy?\n",
    "\n",
    "NumPy is powerful, but it lacks some high-level functions and abstractions that are needed for solving everyday problems for a data analyst using structured data tables. \n",
    "\n",
    "For example:\n",
    "- Labelled columns: Labelled data is especially useful in explicit data alignment while loading data to Pandas.\n",
    "- Reading from files: Datasets stored in CSV and XLSX (among other formats) can be read easily using Pandas.\n",
    "\n",
    "Pandas is a fast, powerful, flexible, and easy to use open source data analysis and data manipulation tool for Python. Pandas is built on top of NumPy and makes it easy to use in data analytics applications.\n",
    "\n",
    "That being said it is very important and useful to learn NumPy, as a lot of the core features of Pandas and other packages are based on NumPy functionality."
   ]
  },
  {
   "cell_type": "markdown",
   "metadata": {},
   "source": [
    "## Pandas data structures\n",
    "There are two fundamental data structures which Pandas provide:\n",
    "- Pandas Series, and\n",
    "- Pandas DataFrame\n",
    "\n",
    "Both these two data structures provide a solid basis for most of the applications that you would build in Python.\n",
    "\n",
    "__Pandas Series__ is a one-dimensional Array-like object consisting of Array of data, Array of labels, also known as index, whereas:\n",
    "\n",
    "__DataFrame__ is a two-dimensional structure and it represents a tabular, spreadsheet-like data structure with an ordered collection of columns. It has an index for both rows and columns.\n",
    "\n",
    "Let’s explore these data structures in some detail in the subsequent sections.\n"
   ]
  },
  {
   "cell_type": "markdown",
   "metadata": {},
   "source": [
    "## Pandas Series\n",
    "Pandas Series is a\n",
    "- is a one-dimensional Array that can hold data of any type\n",
    "- contains an Array of data\n",
    "- contains an associated Array of labels, which is also known as its index.\n",
    "\n",
    "\n",
    "### Creating Pandas Series\n",
    "\n",
    "A simplest way to create a series is to pass an Array of data to Series function, as is highlighted in the code snippet below:"
   ]
  },
  {
   "cell_type": "code",
   "execution_count": null,
   "metadata": {},
   "outputs": [],
   "source": [
    "import pandas as pd\n",
    "import numpy as np\n",
    "from pandas import Series, DataFrame"
   ]
  },
  {
   "cell_type": "code",
   "execution_count": null,
   "metadata": {},
   "outputs": [],
   "source": [
    "ser1 = Series([1,2,3,4,5,6,7])\n",
    "ser1"
   ]
  },
  {
   "cell_type": "markdown",
   "metadata": {},
   "source": [
    "Looking at the output of the code above, we can infer that:\n",
    "\n",
    "- the second column contains the Array data\n",
    "- the first column contains the default labels (ie, default index assigned to the data)."
   ]
  },
  {
   "cell_type": "markdown",
   "metadata": {},
   "source": [
    "### Accessing data and index of Series\n",
    "\n",
    "Just a while ago, while describing Series, we said that it can contain both Array of the data and Array of the labels.\n",
    "\n",
    "So, there must be some mechanism available to extract the Array of data, and Array of indexes from Pandas Series. There are two attributes, values and index, that return the Array representation of the data and the index object of the Series respectively.\n",
    "\n",
    "The following code snippet highlights this functionality:  "
   ]
  },
  {
   "cell_type": "code",
   "execution_count": null,
   "metadata": {},
   "outputs": [],
   "source": [
    "ser1.values"
   ]
  },
  {
   "cell_type": "code",
   "execution_count": null,
   "metadata": {},
   "outputs": [],
   "source": [
    "ser1.index"
   ]
  },
  {
   "cell_type": "markdown",
   "metadata": {},
   "source": [
    "### Creating Series with explicit labelling\n",
    "\n",
    "Often it is required to create a Series with a labelled index for each data point. This is achieved by passing the index labels to Series function. \n",
    "\n",
    "This is highlighted in the code snippet below:"
   ]
  },
  {
   "cell_type": "code",
   "execution_count": null,
   "metadata": {},
   "outputs": [],
   "source": [
    "ser2 = Series([1,2,3,4,5,6,7], index=['a','b','c','d','e','f','g'])\n",
    "ser2"
   ]
  },
  {
   "cell_type": "code",
   "execution_count": null,
   "metadata": {},
   "outputs": [],
   "source": [
    "ser2.values"
   ]
  },
  {
   "cell_type": "code",
   "execution_count": null,
   "metadata": {},
   "outputs": [],
   "source": [
    "ser2.index"
   ]
  },
  {
   "cell_type": "markdown",
   "metadata": {},
   "source": [
    "### Accessing values using indexes (default index or explicit index)\n",
    "\n",
    "Values in the Series can be accessed using the index notation. We can either pass a single index or multiple indexes (Default index or Explicit index) to access the values. \n",
    "\n",
    "The code snippet below highlights the behaviour:"
   ]
  },
  {
   "cell_type": "code",
   "execution_count": null,
   "metadata": {},
   "outputs": [],
   "source": [
    "ser2"
   ]
  },
  {
   "cell_type": "code",
   "execution_count": null,
   "metadata": {},
   "outputs": [],
   "source": [
    "ser2['a'], ser2['f']"
   ]
  },
  {
   "cell_type": "code",
   "execution_count": null,
   "metadata": {},
   "outputs": [],
   "source": [
    "ser2[['a','b','f']]"
   ]
  },
  {
   "cell_type": "markdown",
   "metadata": {},
   "source": [
    "### Creating Series from Python Dictionaries\n",
    "\n",
    "\n",
    "A Pandas Series can also be created by passing a dictionary object to Series Function. In this particular case, the keys of the dictionary will be assigned as the labels of the Series, and the values of the dictionary become the data of the Series.\n",
    "\n",
    "The code snippet below highlights the behaviour.\n",
    "\n",
    "- We have first created a dictionary with a key:value pair, where:\n",
    "    <br>Key = country code\n",
    "    <br>Value = description of currency.\n",
    "\n",
    "- We have created the Pandas series by passing the dictionary to the Series() function: \n",
    "    <br>The values from dictionary = the data for series\n",
    "    <br>The keys from the dictionary = the index for the series.\n"
   ]
  },
  {
   "cell_type": "code",
   "execution_count": null,
   "metadata": {},
   "outputs": [],
   "source": [
    "dict_1 = {'AU':'Australian Dollar',\n",
    "         'US': 'US Dollar',\n",
    "         'IN': 'Indian Ruppees',\n",
    "         'DK': 'Danish Krones',\n",
    "         'SW': 'Swiss Francs'}\n",
    "dict_1"
   ]
  },
  {
   "cell_type": "code",
   "execution_count": null,
   "metadata": {},
   "outputs": [],
   "source": [
    "ser1 = Series(dict_1)\n",
    "ser1"
   ]
  },
  {
   "cell_type": "code",
   "execution_count": null,
   "metadata": {},
   "outputs": [],
   "source": [
    "ser1.index"
   ]
  },
  {
   "cell_type": "markdown",
   "metadata": {},
   "source": [
    "### Name Attribute for Series and index\n",
    "\n",
    "Both the Pandas Series and its index have the ‘name’ attribute, and this is used at various places during programming with Pandas. We will see its usage in some exercises during the course.\n",
    "\n",
    "For now, it’s good to remember that such an attribute exists and its value can be accessed programmatically.\n",
    "\n",
    "The following code snippet highlights the ‘Name’ attribute. You can see that when we display: \n",
    "- the Series, the Name of the Series is displayed along with the data\n",
    "- the index, the Name of index is also displayed along with the respective indexes.\n",
    "\n"
   ]
  },
  {
   "cell_type": "code",
   "execution_count": null,
   "metadata": {},
   "outputs": [],
   "source": [
    "ser1.name = \"Currency\"\n",
    "ser1.index.name=\"Country\""
   ]
  },
  {
   "cell_type": "code",
   "execution_count": null,
   "metadata": {},
   "outputs": [],
   "source": [
    "ser1"
   ]
  },
  {
   "cell_type": "code",
   "execution_count": null,
   "metadata": {},
   "outputs": [],
   "source": [
    "ser1.index"
   ]
  },
  {
   "cell_type": "markdown",
   "metadata": {},
   "source": [
    "## Pandas DataFrame\n",
    "\n",
    "A Pandas DataFrame:\n",
    "-is a tabular, spreadsheet-like data structure\n",
    "-contains an ordered list of columns, and each can have different data types\n",
    "-has indexes or labels for both rows and columns\n",
    "\n",
    "Let’s explore it through examples.\n",
    "\n",
    "\n",
    "### Creating a Pandas DataFrame\n",
    "\n",
    "There are various ways a DataFrame can be created using the function DataFrame(), but one of the common ways is to pass a dictionary of equal length list or NumPy Arrays. In this case, the keys will be column labels / index.\n",
    "\n",
    "The following code snippet will highlight this behaviour:"
   ]
  },
  {
   "cell_type": "code",
   "execution_count": null,
   "metadata": {},
   "outputs": [],
   "source": [
    "data = {\n",
    "    'state':['WA', 'SA', 'VIC', 'NSW', 'ACT', 'QLD', 'NT'],\n",
    "    'pop': [1,1,2.5,2.7,0.5,1.5,0.4],\n",
    "    'TZ': ['GMT+8', 'GMT+9.30','GMT+10', 'GMT+10', 'GMT+10', 'GMT+10', 'GMT+9.30']\n",
    "}"
   ]
  },
  {
   "cell_type": "code",
   "execution_count": null,
   "metadata": {},
   "outputs": [],
   "source": [
    "df_states = DataFrame(data)\n",
    "df_states"
   ]
  },
  {
   "cell_type": "markdown",
   "metadata": {},
   "source": [
    "Later in the course, we will see how to populate DataFrames using CSV files and databases.\n",
    "\n",
    "\n",
    "### Specifying the sequence of columns\n",
    "\n",
    "We can also specify the sequence or order of the columns for DataFrame, as a result of which data will be arranged in the column order specified.\n",
    "\n",
    "See below code snippet for demonstration:"
   ]
  },
  {
   "cell_type": "code",
   "execution_count": null,
   "metadata": {},
   "outputs": [],
   "source": [
    "df_states=DataFrame(data, columns=['state','TZ','pop'])\n",
    "df_states"
   ]
  },
  {
   "cell_type": "markdown",
   "metadata": {},
   "source": [
    "If a column name is specified but there is no data supplied for that data column, then DataFrame will fill the null values or NaN for that column."
   ]
  },
  {
   "cell_type": "code",
   "execution_count": null,
   "metadata": {},
   "outputs": [],
   "source": [
    "#If a Column Name is specified, but no data is supplied\n",
    "#then column will contain Null Values\n",
    "df_states1=DataFrame(data, columns=['state','TZ','pop','GDP'])\n",
    "df_states1"
   ]
  },
  {
   "cell_type": "markdown",
   "metadata": {},
   "source": [
    "### Specifying the row labels\n",
    "\n",
    "As we have seen in the case of Series, we can specify the explicit indexes for the rows for DataFrame. This is done by passing the index parameter to the DataFrame function. The index parameter can be either:\n",
    "- the list of labels\n",
    "- the name of the column / key in the data provided, that should be treated as index.\n",
    "\n",
    "See the code example below for the demonstration:"
   ]
  },
  {
   "cell_type": "code",
   "execution_count": null,
   "metadata": {},
   "outputs": [],
   "source": [
    "#\"Specifying the Row Labels, or Indexes\"\n",
    "data = {\n",
    "    'state':['Western Australia', 'Southern Australia', 'Victoria', 'New South Wales', 'Australian Capital Territory', 'Queensland', 'Northern Territory'],\n",
    "    'pop': [1,1,2.5,2.7,0.5,1.5,0.4],\n",
    "    'TZ': ['GMT+8', 'GMT+9.30','GMT+10', 'GMT+10', 'GMT+10', 'GMT+10', 'GMT+9.30']\n",
    "}\n",
    "\n",
    "row_labels = ['WA', 'SA','VIC','NSW','ACT','QLD','NT']\n",
    "df_states_lbl = DataFrame(data, columns=['state','TZ','pop'], index=row_labels)\n",
    "df_states_lbl"
   ]
  },
  {
   "cell_type": "markdown",
   "metadata": {},
   "source": [
    "### Retrieving Columns from DataFrame\n",
    "\n",
    "Individual columns in DataFrame are stored as Pandas Series. We can access the data in the individual columns by either:\n",
    "- using index Notation and passing the column name as the index\n",
    "- using the df.Attribute notation, where the column name itself is the name of the attribute.\n",
    "\n",
    "While retrieving the individual columns, the index of DataFrame is retained in the retrieved Series.\n",
    "\n",
    "The following code snippet showcases this behaviour:\n",
    "\n"
   ]
  },
  {
   "cell_type": "code",
   "execution_count": null,
   "metadata": {},
   "outputs": [],
   "source": [
    "df_states_lbl"
   ]
  },
  {
   "cell_type": "code",
   "execution_count": null,
   "metadata": {},
   "outputs": [],
   "source": [
    "series_states = df_states_lbl['state']\n",
    "series_states"
   ]
  },
  {
   "cell_type": "code",
   "execution_count": null,
   "metadata": {},
   "outputs": [],
   "source": [
    "series_states = df_states_lbl.state\n",
    "series_states"
   ]
  },
  {
   "cell_type": "markdown",
   "metadata": {},
   "source": [
    "### Retrieving Rows from DataFrame\n",
    "\n",
    "<br>Individual rows can also be accessed from the DataFrame, by using the loc method and passing the index as a parameter to this method.\n"
   ]
  },
  {
   "cell_type": "code",
   "execution_count": null,
   "metadata": {},
   "outputs": [],
   "source": [
    "df_states_lbl"
   ]
  },
  {
   "cell_type": "code",
   "execution_count": null,
   "metadata": {},
   "outputs": [],
   "source": [
    "wa_data = df_states_lbl.loc['WA']\n",
    "wa_data"
   ]
  },
  {
   "cell_type": "markdown",
   "metadata": {},
   "source": [
    "In case we don’t want to use the explicit label or row index, we can also use the default positional index for the rows in DataFrame. For such scenarios, there is a method .iloc(), and it can be used to access the particular row."
   ]
  },
  {
   "cell_type": "code",
   "execution_count": null,
   "metadata": {},
   "outputs": [],
   "source": [
    "wa_data1 = df_states_lbl.iloc[0]\n",
    "wa_data1"
   ]
  },
  {
   "cell_type": "code",
   "execution_count": null,
   "metadata": {},
   "outputs": [],
   "source": [
    "wa_data1 = df_states_lbl.iloc[1]\n",
    "wa_data1"
   ]
  },
  {
   "cell_type": "markdown",
   "metadata": {},
   "source": [
    "### Changing data in a particular column\n",
    "\n",
    "The values in a particular column can be changed by assigning either the scalar value or a range of values (equal to number of rows in the DataFrame).\n",
    "\n",
    "The following code snippet shows this behaviour:\n"
   ]
  },
  {
   "cell_type": "code",
   "execution_count": null,
   "metadata": {},
   "outputs": [],
   "source": [
    "data = {\n",
    "    'state':['Western Australia', 'Southern Australia', 'Victoria', 'New South Wales', 'Australian Capital Territory', 'Queensland', 'Northern Territory'],\n",
    "    'pop': [1,1,2.5,2.7,0.5,1.5,0.4],\n",
    "    'TZ': ['GMT+8', 'GMT+9.30','GMT+10', 'GMT+10', 'GMT+10', 'GMT+10', 'GMT+9.30']\n",
    "}\n",
    "\n",
    "row_labels = ['WA', 'SA','VIC','NSW','ACT','QLD','NT']\n",
    "\n",
    "df_states = DataFrame(data, columns=['state','TZ','pop','GDP'], index=row_labels)\n",
    "df_states"
   ]
  },
  {
   "cell_type": "code",
   "execution_count": null,
   "metadata": {},
   "outputs": [],
   "source": [
    "#Access GDP column and assign a constant value\n",
    "df_states['GDP'] = 16\n",
    "df_states"
   ]
  },
  {
   "cell_type": "markdown",
   "metadata": {},
   "source": [
    "In the example below we are passing the list of values instead of some constant value:"
   ]
  },
  {
   "cell_type": "code",
   "execution_count": null,
   "metadata": {},
   "outputs": [],
   "source": [
    "gdp_data = [11,8,20,22,15,18,8]\n",
    "df_states"
   ]
  },
  {
   "cell_type": "code",
   "execution_count": null,
   "metadata": {},
   "outputs": [],
   "source": [
    "df_states['GDP'] = gdp_data\n",
    "df_states"
   ]
  },
  {
   "cell_type": "markdown",
   "metadata": {},
   "source": [
    "### Adding a column to DataFrame\n",
    "\n",
    "Using the same convention, if we specify a column name that doesn’t exist in DataFrame and pass the list of values or a scalar, it results in the addition of a new column to the DataFrame.\n",
    "\n",
    "See the below example for a demonstration:\n",
    "\n"
   ]
  },
  {
   "cell_type": "code",
   "execution_count": null,
   "metadata": {},
   "outputs": [],
   "source": [
    "df_states"
   ]
  },
  {
   "cell_type": "code",
   "execution_count": null,
   "metadata": {},
   "outputs": [],
   "source": [
    "df_states['area'] = \"TBD\"\n",
    "df_states"
   ]
  },
  {
   "cell_type": "markdown",
   "metadata": {},
   "source": [
    "So far, we have seen some of the basic operations related to the Series and DataFrame. In the subsequent sections, let’s explore some of the essential functionalities for Pandas, as these will form the foundation of the data wrangling activities for any data analytics projects that you would be involved in."
   ]
  },
  {
   "cell_type": "markdown",
   "metadata": {},
   "source": [
    "## Pandas: Essential operations\n",
    "\n",
    "Similar to NumPy, Pandas also has some essential operations that you would need to explore interacting with the data stored in Series and DataFrame.\n",
    "\n",
    "### Reindexing\n",
    "\n",
    "An important operation that we perform on the Pandas data structure is reindexing, which means to create a new object and rearrange the data in the Pandas data structure, conforming to the new index. \n",
    "\n",
    "While doing so, if data is not present for some index in the original data, missing values are added, corresponding to those indexes.\n",
    "\n"
   ]
  },
  {
   "cell_type": "code",
   "execution_count": null,
   "metadata": {},
   "outputs": [],
   "source": [
    "a = Series(np.random.randn(10), index=['a','b','c','d','e','f','g','h','i','j'])\n",
    "a"
   ]
  },
  {
   "cell_type": "code",
   "execution_count": null,
   "metadata": {},
   "outputs": [],
   "source": [
    "new_index = ['a','A1','b','B1','c','C1','d','e','f','g','h','i','j']"
   ]
  },
  {
   "cell_type": "code",
   "execution_count": null,
   "metadata": {},
   "outputs": [],
   "source": [
    "a_new = a.reindex(new_index)\n",
    "a_new"
   ]
  },
  {
   "cell_type": "markdown",
   "metadata": {},
   "source": [
    "Imagine a situation where you are processing employee records. However, many of the employees have supplied incomplete information. You need a way to handle these cases and highlight the gaps to follow up with them. Perhaps you could insert ‘Unknown’ into all the empty fields, to make the missing values easy to identify.\n",
    "\n",
    "There are various ways the missing values can be handled during reindexing. \n",
    "\n",
    "We can:\n",
    "- either specify a particular value to be filled, and we do this by adding a parameter <code>fill_value = value to be filled</code>, to the reindex method\n",
    "\n",
    "- or we can specify the pre-defined options by passing a parameter <code>method = pre defined method values</code>. This is especially useful in case we need to do operations like interpolation, forward fill, backward fill, and so on for time series data analysis.\n",
    "\n",
    "These two methods are demonstrated by the code snippet below:\n",
    "\n",
    "These two methods are demonstrated by the code snippet below:\n",
    "\n",
    "__Specify fill_value()__"
   ]
  },
  {
   "cell_type": "code",
   "execution_count": null,
   "metadata": {},
   "outputs": [],
   "source": [
    "a_fillvalue = a.reindex(new_index, fill_value=0)\n",
    "a_fillvalue"
   ]
  },
  {
   "cell_type": "markdown",
   "metadata": {},
   "source": [
    "__Specifying 'method' parameter__\n"
   ]
  },
  {
   "cell_type": "code",
   "execution_count": null,
   "metadata": {},
   "outputs": [],
   "source": [
    "a = Series(np.random.randn(10), index=[0,2,4,6,8,10,12,14,16,18])\n",
    "a"
   ]
  },
  {
   "cell_type": "code",
   "execution_count": null,
   "metadata": {},
   "outputs": [],
   "source": [
    "## Reindex so that indexes 1,3,5... are introduced in the series\n",
    "a_new = a.reindex(range(20))\n",
    "a_new"
   ]
  },
  {
   "cell_type": "code",
   "execution_count": null,
   "metadata": {},
   "outputs": [],
   "source": [
    "## Perform similar reindex but with forward fill method specific for null values\n",
    "a_ffill = a.reindex(range(20), method='ffill')\n",
    "a_ffill"
   ]
  },
  {
   "cell_type": "markdown",
   "metadata": {},
   "source": [
    "Observe index 1, 3, and 5: values have been populated from the previous index.\n",
    "\n",
    "For the complete list of parameters of reindexing method, refer to the documentation available at following links:\n",
    ":<br>\n",
    "Read: https://pandas.pydata.org/pandas-docs/stable/reference/api/pandas.Series.reindex.html\n",
    "Read: https://pandas.pydata.org/pandas-docs/stable/reference/api/pandas.DataFrame.reindex.html\n"
   ]
  },
  {
   "cell_type": "markdown",
   "metadata": {},
   "source": [
    "### Dropping entries from axis\n",
    "\n",
    "At many times, we need to delete the data from the Pandas Series and DataFrame. You can do this using the drop method, which is available to both Series and DataFrame. This method accepts the index, or the list of index, to be dropped from the Series and DataFrame.\n",
    "\n",
    "This method creates a new object with only the required values. Note that this operation doesn’t perform inline-drop (ie, the original Pandas Series or DataFrame will be preserved and still available after the drop operations). In practical terms, the method creates a selective copy of the data. \n",
    "\n",
    "\n",
    "__Drop single index__"
   ]
  },
  {
   "cell_type": "code",
   "execution_count": null,
   "metadata": {},
   "outputs": [],
   "source": [
    "b = Series(np.arange(10), index=['a','b','c','d','e','f','g','h','i','j'])\n",
    "b"
   ]
  },
  {
   "cell_type": "code",
   "execution_count": null,
   "metadata": {},
   "outputs": [],
   "source": [
    "#Dropping index b\n",
    "new_series = b.drop('b')\n",
    "new_series"
   ]
  },
  {
   "cell_type": "markdown",
   "metadata": {},
   "source": [
    "__Drop multiple index__<br>"
   ]
  },
  {
   "cell_type": "code",
   "execution_count": null,
   "metadata": {},
   "outputs": [],
   "source": [
    "# Dropping multiple index.\n",
    "# for e.g., a, g, j\n",
    "new_series_1 = b.drop(['a','g','j'])\n",
    "new_series_1"
   ]
  },
  {
   "cell_type": "markdown",
   "metadata": {},
   "source": [
    "In the case of DataFrame, we specify the index for both axes: row labels (by using index parameter), and column names (by using columns parameter). \n",
    "\n",
    "The following code snippets demonstrates this behaviour:\n",
    "\n",
    "<br>__Removing a row from DataFrame__<br>Following code snippets demonstrates this behaviour:"
   ]
  },
  {
   "cell_type": "code",
   "execution_count": null,
   "metadata": {},
   "outputs": [],
   "source": [
    "#Check DataFrame\n",
    "df_states"
   ]
  },
  {
   "cell_type": "code",
   "execution_count": null,
   "metadata": {},
   "outputs": [],
   "source": [
    "# Let's drop NT row, and check the newly created DataFrame\n",
    "df_states_noNT = df_states.drop('NT')\n",
    "df_states_noNT"
   ]
  },
  {
   "cell_type": "code",
   "execution_count": null,
   "metadata": {},
   "outputs": [],
   "source": [
    "#Check Original DataFrame, the row still exist in the original DataFrame\n",
    "df_states"
   ]
  },
  {
   "cell_type": "markdown",
   "metadata": {},
   "source": [
    "__Removing multiple columns from DataFrame, by passing a sequence of column index and axis = 1__\n",
    "<br> See code example below for how to drop columns for Pandas DataFrame"
   ]
  },
  {
   "cell_type": "code",
   "execution_count": null,
   "metadata": {},
   "outputs": [],
   "source": [
    "#Check DataFrame\n",
    "df_states"
   ]
  },
  {
   "cell_type": "code",
   "execution_count": null,
   "metadata": {},
   "outputs": [],
   "source": [
    "#Remove columns 'state' and 'area'\n",
    "df1 = df_states.drop(['state','area'], axis=1)\n",
    "df1"
   ]
  },
  {
   "cell_type": "markdown",
   "metadata": {},
   "source": [
    "Observe how the original DataFrame is always preserved, and whenever we use drop() method, a new DataFrame is created"
   ]
  },
  {
   "cell_type": "code",
   "execution_count": null,
   "metadata": {},
   "outputs": [],
   "source": [
    "#Check ORiginal DataFrame\n",
    "df_states"
   ]
  },
  {
   "cell_type": "markdown",
   "metadata": {},
   "source": [
    "### Indexing, Selection and Filtering\n",
    "\n",
    "We have already seen various examples of indexing being used. Let’s explore a little more about indexing features available to Pandas.\n",
    "\n",
    "#### Pandas Series\n",
    "\n",
    "Indexing for Pandas Series works similarly to NumPy ndArrays, with one additional feature being that we can also use the labelled index along with the implicit positional index, which are available for Series.\n",
    "\n",
    "Following are some of the examples of this behaviour:\n",
    "\n"
   ]
  },
  {
   "cell_type": "code",
   "execution_count": null,
   "metadata": {},
   "outputs": [],
   "source": [
    "#Create a new Series\n",
    "ob1 = Series(np.random.randn(10), index=['a','b','c','d','e','f','g','h','i','j'])\n",
    "ob1"
   ]
  },
  {
   "cell_type": "code",
   "execution_count": null,
   "metadata": {},
   "outputs": [],
   "source": [
    "#Access using positional index, passing 0 index will pick value\n",
    "#corresponding to index a\n",
    "ob1[0], ob1['a']"
   ]
  },
  {
   "cell_type": "markdown",
   "metadata": {},
   "source": [
    "Slicing with labels works a little differently than normal slicing, and the difference is that both the indexes are inclusive whereas in the case of normal slicing, the endpoint is not inclusive."
   ]
  },
  {
   "cell_type": "code",
   "execution_count": null,
   "metadata": {},
   "outputs": [],
   "source": [
    "#Create a new Series\n",
    "ob1 = Series(np.random.randn(10), index=['a','b','c','d','e','f','g','h','i','j'])\n",
    "ob1"
   ]
  },
  {
   "cell_type": "code",
   "execution_count": null,
   "metadata": {},
   "outputs": [],
   "source": [
    "#Check that index number 5 and index label f return same value\n",
    "ob1[5], ob1['f']"
   ]
  },
  {
   "cell_type": "code",
   "execution_count": null,
   "metadata": {},
   "outputs": [],
   "source": [
    "#Using slicing with default index, the end point is not included\n",
    "#where slicing with explicit labels, the end point is included\n",
    "ob1[0:5]"
   ]
  },
  {
   "cell_type": "code",
   "execution_count": null,
   "metadata": {},
   "outputs": [],
   "source": [
    "ob1['a':'f']"
   ]
  },
  {
   "cell_type": "markdown",
   "metadata": {},
   "source": [
    "#### Pandas DataFrame\n",
    "\n",
    "As we have already seen, we use indexing to retrieve a particular subset of data along the x and y axis of DataFrame, by passing either the single value or sequence of indexes.\n",
    "\n",
    "The following examples demonstrate these features again:\n"
   ]
  },
  {
   "cell_type": "code",
   "execution_count": null,
   "metadata": {},
   "outputs": [],
   "source": [
    "#Check DataFrame\n",
    "df_states"
   ]
  },
  {
   "cell_type": "code",
   "execution_count": null,
   "metadata": {},
   "outputs": [],
   "source": [
    "#Select state column\n",
    "df_states['state']"
   ]
  },
  {
   "cell_type": "code",
   "execution_count": null,
   "metadata": {},
   "outputs": [],
   "source": [
    "#Select multiple columns state and TZ\n",
    "df_states[['state', 'TZ']]"
   ]
  },
  {
   "cell_type": "markdown",
   "metadata": {},
   "source": [
    "TThis mechanism of supplying indexes let’s us do data selection by a variety of ways:\n",
    "\n",
    "__By passing row slices:__\n"
   ]
  },
  {
   "cell_type": "code",
   "execution_count": null,
   "metadata": {},
   "outputs": [],
   "source": [
    "df_states[:2]"
   ]
  },
  {
   "cell_type": "markdown",
   "metadata": {},
   "source": [
    "__By passing a Boolean Array (filter array)__:"
   ]
  },
  {
   "cell_type": "code",
   "execution_count": null,
   "metadata": {},
   "outputs": [],
   "source": [
    "df_states[df_states['GDP']>8]"
   ]
  },
  {
   "cell_type": "markdown",
   "metadata": {},
   "source": [
    "### Data alignment\n",
    "\n",
    "One of the interesting features of Pandas operations is data alignment. We have already seen some analogous behaviours. \n",
    "\n",
    "For example: \n",
    "- The creation of DataFrame (ie, if data is not presented for one of the specified columns, then missing values are filled in automatically as NaN).\n",
    "\n",
    "- Reindexing if the data doesn’t exist for the supplied index. So then by default, NaN is filled for those indexes and additionally we have the option to pass values and methods as well to the reindex method.\n",
    "\n",
    "On the same lines, if we do mathematical operations between Panda objects with different indexes, Pandas will perform the data alignment into the resulting Panda object.\n",
    "\n"
   ]
  },
  {
   "cell_type": "code",
   "execution_count": null,
   "metadata": {},
   "outputs": [],
   "source": [
    "#Create 3X3 dataframe with random numbers,\n",
    "#Columns = a,b,c\n",
    "#Index = 'SA', 'VIC', 'NSW'\n",
    "df1 = DataFrame(np.arange(9).reshape(3,3), columns=['a','b','c'], index=['SA', 'VIC', 'NSW'])\n",
    "df1"
   ]
  },
  {
   "cell_type": "code",
   "execution_count": null,
   "metadata": {},
   "outputs": [],
   "source": [
    "#Create 4X3 dataframe with random numbers,\n",
    "#Columns = a,c,E\n",
    "#Index = 'SA', 'VIC', 'NSW', 'ACT'\n",
    "df2 = DataFrame(np.arange(12).reshape(4,3), columns=['a','b','e'], index=['SA', 'VIC', 'NSW', 'ACT'])\n",
    "df2"
   ]
  },
  {
   "cell_type": "markdown",
   "metadata": {},
   "source": [
    "In case of addition, if index pairs are not the same, the resultant Pandas object will have the index that is union of both the original index, and missing values will be filled as NaN."
   ]
  },
  {
   "cell_type": "code",
   "execution_count": null,
   "metadata": {},
   "outputs": [],
   "source": [
    "#Observer data alignment when we add the two dataframes\n",
    "#and missing values are filled as NaN \n",
    "#-> Column c and Column e are NANs as either one of the array has that column missing\n",
    "#-> And for ACT row, column a and b are NAN (as ACT row for these columns is NAN, in df1)\n",
    "#Indexes are arranged in order\n",
    "df1+df2"
   ]
  },
  {
   "cell_type": "markdown",
   "metadata": {},
   "source": [
    "We also have the option of passing parameter values to determine how missing values should be dealt with, which performs this internal data alignment."
   ]
  },
  {
   "cell_type": "code",
   "execution_count": null,
   "metadata": {},
   "outputs": [],
   "source": [
    "#adding with .add()method and passing fill_value parameter\n",
    "df1.add(df2, fill_value=0)"
   ]
  },
  {
   "cell_type": "markdown",
   "metadata": {},
   "source": [
    "### Mapping\n",
    "\n",
    "At many times, we would want to change or manipulate the values in a particular row or a column by way of applying some functions to the values in selection. For example, think of a data set that captures information about a large collection of products (represented as columns in the data set). These products update to a new version every year. You need a way to update all the version numbers quickly and easily.\n",
    "\n",
    "This process is known as mapping, and we do this by using the .apply() method, which has following parameters:\n",
    "- a lambda function, to specify what kind of transformation needs to be applied\n",
    "- an axis parameter, which by default equates to 0 and so applies across the index (and not columns).\n",
    "\n",
    "The following code snippets demonstrates this behaviour:\n"
   ]
  },
  {
   "cell_type": "code",
   "execution_count": null,
   "metadata": {},
   "outputs": [],
   "source": [
    "#Check DataFrame\n",
    "df_states"
   ]
  },
  {
   "cell_type": "code",
   "execution_count": null,
   "metadata": {},
   "outputs": [],
   "source": [
    "#Create a Lambda function to convert string to upper case\n",
    "f = lambda x:x.upper()"
   ]
  },
  {
   "cell_type": "code",
   "execution_count": null,
   "metadata": {},
   "outputs": [],
   "source": [
    "#Apply Function Mapping to state column and update DataFrame\n",
    "df_states['state'] = df_states['state'].apply(f)"
   ]
  },
  {
   "cell_type": "code",
   "execution_count": null,
   "metadata": {},
   "outputs": [],
   "source": [
    "df_states"
   ]
  },
  {
   "cell_type": "markdown",
   "metadata": {},
   "source": [
    "Note that there are other methods available for doing column wise transformations, and we will cover some of those in detail during the data wrangling sections of this course."
   ]
  },
  {
   "cell_type": "markdown",
   "metadata": {},
   "source": [
    "### Sorting\n",
    "\n",
    "Many kinds of data need to be sorted to be meaningful and useful. Think of a video on-demand streaming service that needs to know which TV series in its catalogue are the most popular, so that it can decide which of them to renew for another season. The series titles need to be sorted by the most watched. Sorting is also one of the important operations that we perform on the data in Pandas. \n",
    "\n",
    "#### Sorting the indexes / labels\n",
    "\n",
    "To sort lexicographically (ie, the dictionary order) by row or column index, we use the sort_index() method. See below a demonstration of sorting the indexes.\n",
    "\n",
    "It should be noted that this method returns a new object, which is sorted based on the criteria specified:"
   ]
  },
  {
   "cell_type": "markdown",
   "metadata": {},
   "source": [
    "Original DataFrame"
   ]
  },
  {
   "cell_type": "code",
   "execution_count": null,
   "metadata": {},
   "outputs": [],
   "source": [
    "df_states"
   ]
  },
  {
   "cell_type": "markdown",
   "metadata": {},
   "source": [
    "Original DataFrame"
   ]
  },
  {
   "cell_type": "code",
   "execution_count": null,
   "metadata": {},
   "outputs": [],
   "source": [
    "df_states.sort_index()"
   ]
  },
  {
   "cell_type": "markdown",
   "metadata": {},
   "source": [
    "DataFrame sorted by columns (lexicographically)"
   ]
  },
  {
   "cell_type": "code",
   "execution_count": null,
   "metadata": {},
   "outputs": [],
   "source": [
    "df_states.sort_index(axis=1)"
   ]
  },
  {
   "cell_type": "markdown",
   "metadata": {},
   "source": [
    "### Sorting by values\n",
    "\n",
    "Instead of indexes and labels, we can also sort the data by the actual values in the columns.\n",
    "\n",
    "For this purpose, there is another function, sort_values(), that can be used. This function will do the sorting on the basis of values instead of the labels.\n",
    "\n",
    "See below code snippet for an example, where we will arrange the values by GDP Column:\n"
   ]
  },
  {
   "cell_type": "code",
   "execution_count": null,
   "metadata": {},
   "outputs": [],
   "source": [
    "df_states"
   ]
  },
  {
   "cell_type": "code",
   "execution_count": null,
   "metadata": {},
   "outputs": [],
   "source": [
    "#Sort Data by GDP Column\n",
    "df_states.sort_values('GDP')"
   ]
  },
  {
   "cell_type": "markdown",
   "metadata": {},
   "source": [
    "## Pandas: Mathematical and Statistical Methods\n",
    "\n",
    "Think back to Module 1 and the basic statistical methods that you learnt about. As you can imagine, it would be very laborious to calculate statistics on large datasets by hand. Fortunately, there are various mathematical and statistical methods in Pandas to automate some of the calculations. Available methods include summation, finding maximum and minimum values, and generating descriptive statistics.  \n",
    "\n",
    "Let’s explore these methods with some code examples:\n",
    "\n",
    "\n",
    "### Sum() Method\n",
    "\n",
    "Summation is a common step in calculating statistics such as the mean and standard deviation. This method calculates the summation on a per column basis, and returns the result as a Pandas Series."
   ]
  },
  {
   "cell_type": "code",
   "execution_count": null,
   "metadata": {},
   "outputs": [],
   "source": [
    "new_df = DataFrame(np.random.rand(24).reshape((4,6)), \n",
    "                   index=['r1','r2','r3','r4'], \n",
    "                   columns=['c1','c2','c3','c4','c5','c6'])\n",
    "new_df"
   ]
  },
  {
   "cell_type": "code",
   "execution_count": null,
   "metadata": {},
   "outputs": [],
   "source": [
    "#Get summation for all the columns\n",
    "new_df.sum()"
   ]
  },
  {
   "cell_type": "code",
   "execution_count": null,
   "metadata": {},
   "outputs": [],
   "source": [
    "#Get summation for all the rows, along column axis\n",
    "new_df.sum(axis=1)"
   ]
  },
  {
   "cell_type": "markdown",
   "metadata": {},
   "source": [
    "### Min(), Max() methods\n",
    "\n",
    "As the name suggests, these methods will return the minimum and maximum values respectively for every column. These methods form the basis for other statistics such as finding the range of a set of values."
   ]
  },
  {
   "cell_type": "code",
   "execution_count": null,
   "metadata": {},
   "outputs": [],
   "source": [
    "##Check the DataFrame\n",
    "new_df"
   ]
  },
  {
   "cell_type": "code",
   "execution_count": null,
   "metadata": {},
   "outputs": [],
   "source": [
    "## Minimum for every columns, across the rows axis\n",
    "new_df.min()"
   ]
  },
  {
   "cell_type": "code",
   "execution_count": null,
   "metadata": {},
   "outputs": [],
   "source": [
    "##minimum across the columns, per rows\n",
    "new_df.min(axis=1)"
   ]
  },
  {
   "cell_type": "markdown",
   "metadata": {},
   "source": [
    "### Describe() Method\n",
    "\n",
    "The describe method provides the summary statistics, such as mean, range, and standard deviation, of all the data columns available in the DataFrame.\n",
    "\n",
    "See the below code snippet for an example:"
   ]
  },
  {
   "cell_type": "code",
   "execution_count": null,
   "metadata": {},
   "outputs": [],
   "source": [
    "##Check the original DataFrame\n",
    "new_df"
   ]
  },
  {
   "cell_type": "code",
   "execution_count": null,
   "metadata": {},
   "outputs": [],
   "source": [
    "##Check the summary statistics of the DataFrame\n",
    "new_df.describe()"
   ]
  },
  {
   "cell_type": "markdown",
   "metadata": {},
   "source": [
    "For an exhaustive list of methods, refer to the Pandas API Documentation.<br>\n",
    "Refer to: https://pandas.pydata.org/pandas-docs/stable/reference/index.html \n",
    "\n",
    "We will also explore some additional methods by way of demonstration throughout the course."
   ]
  },
  {
   "cell_type": "code",
   "execution_count": null,
   "metadata": {},
   "outputs": [],
   "source": []
  }
 ],
 "metadata": {
  "kernelspec": {
   "display_name": "Python 3 (ipykernel)",
   "language": "python",
   "name": "python3"
  },
  "language_info": {
   "codemirror_mode": {
    "name": "ipython",
    "version": 3
   },
   "file_extension": ".py",
   "mimetype": "text/x-python",
   "name": "python",
   "nbconvert_exporter": "python",
   "pygments_lexer": "ipython3",
   "version": "3.9.7"
  }
 },
 "nbformat": 4,
 "nbformat_minor": 2
}
