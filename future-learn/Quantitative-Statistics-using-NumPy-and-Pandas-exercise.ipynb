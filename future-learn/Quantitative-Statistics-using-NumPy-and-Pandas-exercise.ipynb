{
 "cells": [
  {
   "cell_type": "markdown",
   "metadata": {},
   "source": [
    "### Instructions  \n",
    "\n",
    "The cell below is making use of matplotlib, which is a plotting library for Python and NumPy. You are already provided with a defined function for plotting data using matplotlib!  Please start by running this cell below.\n",
    "\n",
    "_Note: If you get import errors, please install Matplotlib package from Anaconda._"
   ]
  },
  {
   "cell_type": "code",
   "execution_count": null,
   "metadata": {},
   "outputs": [],
   "source": [
    "## Import pyplot from matplotlib \n",
    "import matplotlib.pyplot as plt\n",
    "\n",
    "## Define a Plot Method to be used in the notebook to plot the data\n",
    "def plot_data(df_fires):\n",
    "    #Creating a Bar Graph\n",
    "    #Plot X Values and Y Values\n",
    "    plt.figure(figsize=(25,15))\n",
    "    plt.bar(df_fires['Month'], df_fires['Number of Fires'], color = (0.5,0.1,0.5,0.6))\n",
    "\n",
    "    #Add Actual Title and Title for Subheadings\n",
    "    plt.suptitle('Amazon Forest Fires Over the Months', fontsize=20) \n",
    "    plt.title('Using Data from Years 1998 - 2017', fontsize=20)  \n",
    "    plt.xlabel('Month', fontsize=20) \n",
    "    plt.ylabel('Number of Forest Fires', fontsize=20)\n",
    "\n",
    "#plt.text(x-coordinate, y-coordinate, valueOfText, alignmnet)\n",
    "#this adds text at the top of each bar indicating its value\n",
    "    for i, num in enumerate(df_fires['Number of Fires']):\n",
    "        plt.text(\n",
    "            i,\n",
    "            num+2500,\n",
    "            num,\n",
    "            ha='center',\n",
    "            verticalalignment='top',\n",
    "            fontsize=20)  \n",
    "    \n",
    "    plt.setp(plt.gca().get_xticklabels(),\n",
    "         rotation=45,\n",
    "         horizontalalignment='right',\n",
    "         fontsize=20)\n",
    "\n",
    "    plt.setp(plt.gca().get_yticklabels(), fontsize=20)"
   ]
  },
  {
   "cell_type": "markdown",
   "metadata": {},
   "source": [
    "## TO DO - Activity 1 - Import Packages\n",
    "In the code cell below import the Pandas and NumPy as __pd__ and __np__ respectively"
   ]
  },
  {
   "cell_type": "code",
   "execution_count": null,
   "metadata": {},
   "outputs": [],
   "source": []
  },
  {
   "cell_type": "markdown",
   "metadata": {},
   "source": [
    "As a next step we will import the csv data into the Pandas DataFrame.\n",
    "\n",
    "__NOTE__: We will cover how to do Data Ingestion into Pandas in our next module, so for this exercise the code has been provided for you in the cell below and you simply need to execute it. Please ensure that your data set is saved in the exact file path as mentioned below in your machine within the folder where this notebook is saved:"
   ]
  },
  {
   "cell_type": "code",
   "execution_count": null,
   "metadata": {},
   "outputs": [],
   "source": [
    "#Read Data from the Datasource\n",
    "\n",
    "data = pd.read_csv('./dataset/module3/brazilianfire.csv')\n",
    "data['Number of Fires'] = data['Number of Fires'].astype(int)"
   ]
  },
  {
   "cell_type": "markdown",
   "metadata": {},
   "source": [
    "## TO DO - Activity 2 - Sample the Data in the Pandas DataFrame\n",
    "\n",
    "Write the code below to look at top 10 rows in the DataFrame()"
   ]
  },
  {
   "cell_type": "code",
   "execution_count": null,
   "metadata": {},
   "outputs": [],
   "source": [
    "#Add Code here for Activity 2 here"
   ]
  },
  {
   "cell_type": "markdown",
   "metadata": {},
   "source": [
    "## TO DO - Activity 3:\n",
    "Find how many rows and columns are there in the dataframe. There are multiple ways this information can be extracted. For e.g. you can use the shape attribute of the dataframe.\n"
   ]
  },
  {
   "cell_type": "code",
   "execution_count": null,
   "metadata": {},
   "outputs": [],
   "source": [
    "#Add Code here for Activity 3 here"
   ]
  },
  {
   "cell_type": "markdown",
   "metadata": {},
   "source": [
    "So how many rows and columns the dataframe have?\n",
    "\n",
    "__Number of Rows =__\n",
    "<br>__Number of Columns =__ "
   ]
  },
  {
   "cell_type": "markdown",
   "metadata": {},
   "source": [
    "## TO DO - Activity 4:\n",
    "Provide the summary statistics for the whole data set i.e. for every columns of the DataFrame.\n",
    "For this you can use the Data Frame method __.describe()__\n",
    "- Note though by default summary statistics are only provided for the numeric columns.\n",
    "- You may have to add __include='all'__ parameter to the method to include statistics for non numeric columns "
   ]
  },
  {
   "cell_type": "code",
   "execution_count": null,
   "metadata": {},
   "outputs": [],
   "source": [
    "#Add Code here for Activity 4 here"
   ]
  },
  {
   "cell_type": "markdown",
   "metadata": {},
   "source": [
    "## Summarize your findings in this markup cell\n",
    "Add summary analysis here"
   ]
  },
  {
   "cell_type": "markdown",
   "metadata": {},
   "source": [
    "## Data Aggregation and Data Groupings\n",
    "\n",
    "In this segement we will perform some data aggregation activities.\n",
    "\n",
    "<br>__NOTE:__ We will cover the Data Wrangling activities using Pandas and NumPy in detail in the subsequent module. So in this module code snippet has been provided for you. You simply need to execute the code cell."
   ]
  },
  {
   "cell_type": "markdown",
   "metadata": {},
   "source": [
    "In this section we will now calculate the total number of fires on a month on month basis for the entire period."
   ]
  },
  {
   "cell_type": "code",
   "execution_count": null,
   "metadata": {},
   "outputs": [],
   "source": [
    "#Grouping the Data on Months Column, and performing the summation on number of fires.\n",
    "ffire_per_month = data.groupby('Month')['Number of Fires'].sum()\n",
    "print(ffire_per_month)"
   ]
  },
  {
   "cell_type": "markdown",
   "metadata": {},
   "source": [
    "As you can see the data is not arranged in the order of months, by default the Months has been considered as the row index and lexicographically arranged.\n",
    "\n",
    "To rearrange this data we will have perform the reindexing operation on the Pandas Series."
   ]
  },
  {
   "cell_type": "markdown",
   "metadata": {},
   "source": [
    "## TO DO - Activity 5\n",
    "Rearrange the data in the Pandas Series __ffire_per_month__, so that data arranged in the actual order of months i.e. January -> Feb -> March and so on and so forth.\n",
    "\n",
    "1. Create the order list of months \n",
    "2. Using reindex method reindex the Series, remember to pass the order list of months as the parameter to the method\n",
    "3. Store the rearranged data into the variable __ffire_pm_rearranged__\n",
    "\n",
    "__Hint__: Remember in case of Pandas Series we can explicitly pass the order list of index to the reindex method and the data will be arranged accordingly."
   ]
  },
  {
   "cell_type": "code",
   "execution_count": null,
   "metadata": {},
   "outputs": [],
   "source": [
    "# Add Code for Activity 5 here"
   ]
  },
  {
   "cell_type": "markdown",
   "metadata": {},
   "source": [
    "We will now convert the Pandas Series into DataFrame with two columns Months and Number of Fires, and with defaul index for row labels. Once data has been converted into Pandas DataFrame we will plot the data using the pre-defined method available to you.\n",
    "\n",
    "Below code converts the Pandas Series into a DataFrame and reindex the row labels"
   ]
  },
  {
   "cell_type": "code",
   "execution_count": null,
   "metadata": {},
   "outputs": [],
   "source": [
    "df_ffire_pm = ffire_pm_rearranged.to_frame()\n",
    "df_ffire_pm.reset_index(level=0, inplace=True)\n",
    "df_ffire_pm"
   ]
  },
  {
   "cell_type": "markdown",
   "metadata": {},
   "source": [
    "## TO DO Activity 6 - Call the Plot Function and Pass the DataFrame as Parameter\n",
    "\n",
    "There is a function that has been defined initially in this notebook. You will now call that function and pass the dataframe __df_ffire_pm__ which you have created in the previous steps.\n",
    "\n",
    "1. Call function __plot_data()__ and pass the DataFrame __df_ffire_pm__ as the parameter of this function\n"
   ]
  },
  {
   "cell_type": "code",
   "execution_count": null,
   "metadata": {},
   "outputs": [],
   "source": [
    "## Add code for Activity 6 "
   ]
  },
  {
   "cell_type": "markdown",
   "metadata": {},
   "source": [
    "## Summarize the observation from the plot\n",
    "Add summary observation here"
   ]
  },
  {
   "cell_type": "markdown",
   "metadata": {},
   "source": [
    "NOTE:\n",
    "This exercise has covered some very basic data exploration activities on the dataset. There are lot more analysis that can be performed on this data set\n",
    "\n",
    "In our upcoming modules we will go into the details of Data Ingestion, Data Wrangling and Exploratory Data Analysis activities using python"
   ]
  }
 ],
 "metadata": {
  "kernelspec": {
   "display_name": "Python 3",
   "language": "python",
   "name": "python3"
  },
  "language_info": {
   "codemirror_mode": {
    "name": "ipython",
    "version": 3
   },
   "file_extension": ".py",
   "mimetype": "text/x-python",
   "name": "python",
   "nbconvert_exporter": "python",
   "pygments_lexer": "ipython3",
   "version": "3.8.3"
  }
 },
 "nbformat": 4,
 "nbformat_minor": 2
}
